{
  "metadata": {
    "kernelspec": {
      "display_name": "Python 3",
      "name": "python3"
    },
    "language_info": {
      "name": "python",
      "version": "3.10.12",
      "mimetype": "text/x-python",
      "codemirror_mode": {
        "name": "ipython",
        "version": 3
      },
      "pygments_lexer": "ipython3",
      "nbconvert_exporter": "python",
      "file_extension": ".py"
    },
    "kaggle": {
      "accelerator": "none",
      "dataSources": [
        {
          "sourceId": 9526847,
          "sourceType": "datasetVersion",
          "datasetId": 5801337
        }
      ],
      "dockerImageVersionId": 30887,
      "isInternetEnabled": false,
      "language": "python",
      "sourceType": "notebook",
      "isGpuEnabled": false
    },
    "colab": {
      "name": "Detecting Cybersecurity Threats using Pytorch ",
      "provenance": [],
      "gpuType": "T4",
      "include_colab_link": true
    },
    "accelerator": "GPU"
  },
  "nbformat_minor": 0,
  "nbformat": 4,
  "cells": [
    {
      "cell_type": "markdown",
      "metadata": {
        "id": "view-in-github",
        "colab_type": "text"
      },
      "source": [
        "<a href=\"https://colab.research.google.com/github/Idriss-jedid/Detecting-Cybersecurity-Threats-using-DL/blob/main/Detecting_Cybersecurity_Threats_using_Pytorch.ipynb\" target=\"_parent\"><img src=\"https://colab.research.google.com/assets/colab-badge.svg\" alt=\"Open In Colab\"/></a>"
      ]
    },
    {
      "cell_type": "code",
      "source": [
        "!pip install torchmetrics\n"
      ],
      "metadata": {
        "trusted": true,
        "execution": {
          "iopub.status.busy": "2025-02-18T21:39:20.560761Z",
          "iopub.execute_input": "2025-02-18T21:39:20.561134Z",
          "iopub.status.idle": "2025-02-18T21:39:23.822979Z",
          "shell.execute_reply.started": "2025-02-18T21:39:20.561104Z",
          "shell.execute_reply": "2025-02-18T21:39:23.821905Z"
        },
        "colab": {
          "base_uri": "https://localhost:8080/"
        },
        "id": "J1AFsU8L_vZk",
        "outputId": "4c54b8d3-d593-4963-92c8-ae86745f8343"
      },
      "outputs": [
        {
          "output_type": "stream",
          "name": "stdout",
          "text": [
            "Collecting torchmetrics\n",
            "  Downloading torchmetrics-1.6.1-py3-none-any.whl.metadata (21 kB)\n",
            "Requirement already satisfied: numpy>1.20.0 in /usr/local/lib/python3.11/dist-packages (from torchmetrics) (1.26.4)\n",
            "Requirement already satisfied: packaging>17.1 in /usr/local/lib/python3.11/dist-packages (from torchmetrics) (24.2)\n",
            "Requirement already satisfied: torch>=2.0.0 in /usr/local/lib/python3.11/dist-packages (from torchmetrics) (2.5.1+cu124)\n",
            "Collecting lightning-utilities>=0.8.0 (from torchmetrics)\n",
            "  Downloading lightning_utilities-0.12.0-py3-none-any.whl.metadata (5.6 kB)\n",
            "Requirement already satisfied: setuptools in /usr/local/lib/python3.11/dist-packages (from lightning-utilities>=0.8.0->torchmetrics) (75.1.0)\n",
            "Requirement already satisfied: typing_extensions in /usr/local/lib/python3.11/dist-packages (from lightning-utilities>=0.8.0->torchmetrics) (4.12.2)\n",
            "Requirement already satisfied: filelock in /usr/local/lib/python3.11/dist-packages (from torch>=2.0.0->torchmetrics) (3.17.0)\n",
            "Requirement already satisfied: networkx in /usr/local/lib/python3.11/dist-packages (from torch>=2.0.0->torchmetrics) (3.4.2)\n",
            "Requirement already satisfied: jinja2 in /usr/local/lib/python3.11/dist-packages (from torch>=2.0.0->torchmetrics) (3.1.5)\n",
            "Requirement already satisfied: fsspec in /usr/local/lib/python3.11/dist-packages (from torch>=2.0.0->torchmetrics) (2024.10.0)\n",
            "Collecting nvidia-cuda-nvrtc-cu12==12.4.127 (from torch>=2.0.0->torchmetrics)\n",
            "  Downloading nvidia_cuda_nvrtc_cu12-12.4.127-py3-none-manylinux2014_x86_64.whl.metadata (1.5 kB)\n",
            "Collecting nvidia-cuda-runtime-cu12==12.4.127 (from torch>=2.0.0->torchmetrics)\n",
            "  Downloading nvidia_cuda_runtime_cu12-12.4.127-py3-none-manylinux2014_x86_64.whl.metadata (1.5 kB)\n",
            "Collecting nvidia-cuda-cupti-cu12==12.4.127 (from torch>=2.0.0->torchmetrics)\n",
            "  Downloading nvidia_cuda_cupti_cu12-12.4.127-py3-none-manylinux2014_x86_64.whl.metadata (1.6 kB)\n",
            "Collecting nvidia-cudnn-cu12==9.1.0.70 (from torch>=2.0.0->torchmetrics)\n",
            "  Downloading nvidia_cudnn_cu12-9.1.0.70-py3-none-manylinux2014_x86_64.whl.metadata (1.6 kB)\n",
            "Collecting nvidia-cublas-cu12==12.4.5.8 (from torch>=2.0.0->torchmetrics)\n",
            "  Downloading nvidia_cublas_cu12-12.4.5.8-py3-none-manylinux2014_x86_64.whl.metadata (1.5 kB)\n",
            "Collecting nvidia-cufft-cu12==11.2.1.3 (from torch>=2.0.0->torchmetrics)\n",
            "  Downloading nvidia_cufft_cu12-11.2.1.3-py3-none-manylinux2014_x86_64.whl.metadata (1.5 kB)\n",
            "Collecting nvidia-curand-cu12==10.3.5.147 (from torch>=2.0.0->torchmetrics)\n",
            "  Downloading nvidia_curand_cu12-10.3.5.147-py3-none-manylinux2014_x86_64.whl.metadata (1.5 kB)\n",
            "Collecting nvidia-cusolver-cu12==11.6.1.9 (from torch>=2.0.0->torchmetrics)\n",
            "  Downloading nvidia_cusolver_cu12-11.6.1.9-py3-none-manylinux2014_x86_64.whl.metadata (1.6 kB)\n",
            "Collecting nvidia-cusparse-cu12==12.3.1.170 (from torch>=2.0.0->torchmetrics)\n",
            "  Downloading nvidia_cusparse_cu12-12.3.1.170-py3-none-manylinux2014_x86_64.whl.metadata (1.6 kB)\n",
            "Requirement already satisfied: nvidia-nccl-cu12==2.21.5 in /usr/local/lib/python3.11/dist-packages (from torch>=2.0.0->torchmetrics) (2.21.5)\n",
            "Requirement already satisfied: nvidia-nvtx-cu12==12.4.127 in /usr/local/lib/python3.11/dist-packages (from torch>=2.0.0->torchmetrics) (12.4.127)\n",
            "Collecting nvidia-nvjitlink-cu12==12.4.127 (from torch>=2.0.0->torchmetrics)\n",
            "  Downloading nvidia_nvjitlink_cu12-12.4.127-py3-none-manylinux2014_x86_64.whl.metadata (1.5 kB)\n",
            "Requirement already satisfied: triton==3.1.0 in /usr/local/lib/python3.11/dist-packages (from torch>=2.0.0->torchmetrics) (3.1.0)\n",
            "Requirement already satisfied: sympy==1.13.1 in /usr/local/lib/python3.11/dist-packages (from torch>=2.0.0->torchmetrics) (1.13.1)\n",
            "Requirement already satisfied: mpmath<1.4,>=1.1.0 in /usr/local/lib/python3.11/dist-packages (from sympy==1.13.1->torch>=2.0.0->torchmetrics) (1.3.0)\n",
            "Requirement already satisfied: MarkupSafe>=2.0 in /usr/local/lib/python3.11/dist-packages (from jinja2->torch>=2.0.0->torchmetrics) (3.0.2)\n",
            "Downloading torchmetrics-1.6.1-py3-none-any.whl (927 kB)\n",
            "\u001b[2K   \u001b[90m━━━━━━━━━━━━━━━━━━━━━━━━━━━━━━━━━━━━━━━━\u001b[0m \u001b[32m927.3/927.3 kB\u001b[0m \u001b[31m12.7 MB/s\u001b[0m eta \u001b[36m0:00:00\u001b[0m\n",
            "\u001b[?25hDownloading lightning_utilities-0.12.0-py3-none-any.whl (28 kB)\n",
            "Downloading nvidia_cublas_cu12-12.4.5.8-py3-none-manylinux2014_x86_64.whl (363.4 MB)\n",
            "\u001b[2K   \u001b[90m━━━━━━━━━━━━━━━━━━━━━━━━━━━━━━━━━━━━━━━━\u001b[0m \u001b[32m363.4/363.4 MB\u001b[0m \u001b[31m3.8 MB/s\u001b[0m eta \u001b[36m0:00:00\u001b[0m\n",
            "\u001b[?25hDownloading nvidia_cuda_cupti_cu12-12.4.127-py3-none-manylinux2014_x86_64.whl (13.8 MB)\n",
            "\u001b[2K   \u001b[90m━━━━━━━━━━━━━━━━━━━━━━━━━━━━━━━━━━━━━━━━\u001b[0m \u001b[32m13.8/13.8 MB\u001b[0m \u001b[31m29.1 MB/s\u001b[0m eta \u001b[36m0:00:00\u001b[0m\n",
            "\u001b[?25hDownloading nvidia_cuda_nvrtc_cu12-12.4.127-py3-none-manylinux2014_x86_64.whl (24.6 MB)\n",
            "\u001b[2K   \u001b[90m━━━━━━━━━━━━━━━━━━━━━━━━━━━━━━━━━━━━━━━━\u001b[0m \u001b[32m24.6/24.6 MB\u001b[0m \u001b[31m27.9 MB/s\u001b[0m eta \u001b[36m0:00:00\u001b[0m\n",
            "\u001b[?25hDownloading nvidia_cuda_runtime_cu12-12.4.127-py3-none-manylinux2014_x86_64.whl (883 kB)\n",
            "\u001b[2K   \u001b[90m━━━━━━━━━━━━━━━━━━━━━━━━━━━━━━━━━━━━━━━━\u001b[0m \u001b[32m883.7/883.7 kB\u001b[0m \u001b[31m30.6 MB/s\u001b[0m eta \u001b[36m0:00:00\u001b[0m\n",
            "\u001b[?25hDownloading nvidia_cudnn_cu12-9.1.0.70-py3-none-manylinux2014_x86_64.whl (664.8 MB)\n",
            "\u001b[2K   \u001b[90m━━━━━━━━━━━━━━━━━━━━━━━━━━━━━━━━━━━━━━━━\u001b[0m \u001b[32m664.8/664.8 MB\u001b[0m \u001b[31m2.1 MB/s\u001b[0m eta \u001b[36m0:00:00\u001b[0m\n",
            "\u001b[?25hDownloading nvidia_cufft_cu12-11.2.1.3-py3-none-manylinux2014_x86_64.whl (211.5 MB)\n",
            "\u001b[2K   \u001b[90m━━━━━━━━━━━━━━━━━━━━━━━━━━━━━━━━━━━━━━━━\u001b[0m \u001b[32m211.5/211.5 MB\u001b[0m \u001b[31m6.0 MB/s\u001b[0m eta \u001b[36m0:00:00\u001b[0m\n",
            "\u001b[?25hDownloading nvidia_curand_cu12-10.3.5.147-py3-none-manylinux2014_x86_64.whl (56.3 MB)\n",
            "\u001b[2K   \u001b[90m━━━━━━━━━━━━━━━━━━━━━━━━━━━━━━━━━━━━━━━━\u001b[0m \u001b[32m56.3/56.3 MB\u001b[0m \u001b[31m12.1 MB/s\u001b[0m eta \u001b[36m0:00:00\u001b[0m\n",
            "\u001b[?25hDownloading nvidia_cusolver_cu12-11.6.1.9-py3-none-manylinux2014_x86_64.whl (127.9 MB)\n",
            "\u001b[2K   \u001b[90m━━━━━━━━━━━━━━━━━━━━━━━━━━━━━━━━━━━━━━━━\u001b[0m \u001b[32m127.9/127.9 MB\u001b[0m \u001b[31m7.1 MB/s\u001b[0m eta \u001b[36m0:00:00\u001b[0m\n",
            "\u001b[?25hDownloading nvidia_cusparse_cu12-12.3.1.170-py3-none-manylinux2014_x86_64.whl (207.5 MB)\n",
            "\u001b[2K   \u001b[90m━━━━━━━━━━━━━━━━━━━━━━━━━━━━━━━━━━━━━━━━\u001b[0m \u001b[32m207.5/207.5 MB\u001b[0m \u001b[31m5.7 MB/s\u001b[0m eta \u001b[36m0:00:00\u001b[0m\n",
            "\u001b[?25hDownloading nvidia_nvjitlink_cu12-12.4.127-py3-none-manylinux2014_x86_64.whl (21.1 MB)\n",
            "\u001b[2K   \u001b[90m━━━━━━━━━━━━━━━━━━━━━━━━━━━━━━━━━━━━━━━━\u001b[0m \u001b[32m21.1/21.1 MB\u001b[0m \u001b[31m56.3 MB/s\u001b[0m eta \u001b[36m0:00:00\u001b[0m\n",
            "\u001b[?25hInstalling collected packages: nvidia-nvjitlink-cu12, nvidia-curand-cu12, nvidia-cufft-cu12, nvidia-cuda-runtime-cu12, nvidia-cuda-nvrtc-cu12, nvidia-cuda-cupti-cu12, nvidia-cublas-cu12, lightning-utilities, nvidia-cusparse-cu12, nvidia-cudnn-cu12, nvidia-cusolver-cu12, torchmetrics\n",
            "  Attempting uninstall: nvidia-nvjitlink-cu12\n",
            "    Found existing installation: nvidia-nvjitlink-cu12 12.5.82\n",
            "    Uninstalling nvidia-nvjitlink-cu12-12.5.82:\n",
            "      Successfully uninstalled nvidia-nvjitlink-cu12-12.5.82\n",
            "  Attempting uninstall: nvidia-curand-cu12\n",
            "    Found existing installation: nvidia-curand-cu12 10.3.6.82\n",
            "    Uninstalling nvidia-curand-cu12-10.3.6.82:\n",
            "      Successfully uninstalled nvidia-curand-cu12-10.3.6.82\n",
            "  Attempting uninstall: nvidia-cufft-cu12\n",
            "    Found existing installation: nvidia-cufft-cu12 11.2.3.61\n",
            "    Uninstalling nvidia-cufft-cu12-11.2.3.61:\n",
            "      Successfully uninstalled nvidia-cufft-cu12-11.2.3.61\n",
            "  Attempting uninstall: nvidia-cuda-runtime-cu12\n",
            "    Found existing installation: nvidia-cuda-runtime-cu12 12.5.82\n",
            "    Uninstalling nvidia-cuda-runtime-cu12-12.5.82:\n",
            "      Successfully uninstalled nvidia-cuda-runtime-cu12-12.5.82\n",
            "  Attempting uninstall: nvidia-cuda-nvrtc-cu12\n",
            "    Found existing installation: nvidia-cuda-nvrtc-cu12 12.5.82\n",
            "    Uninstalling nvidia-cuda-nvrtc-cu12-12.5.82:\n",
            "      Successfully uninstalled nvidia-cuda-nvrtc-cu12-12.5.82\n",
            "  Attempting uninstall: nvidia-cuda-cupti-cu12\n",
            "    Found existing installation: nvidia-cuda-cupti-cu12 12.5.82\n",
            "    Uninstalling nvidia-cuda-cupti-cu12-12.5.82:\n",
            "      Successfully uninstalled nvidia-cuda-cupti-cu12-12.5.82\n",
            "  Attempting uninstall: nvidia-cublas-cu12\n",
            "    Found existing installation: nvidia-cublas-cu12 12.5.3.2\n",
            "    Uninstalling nvidia-cublas-cu12-12.5.3.2:\n",
            "      Successfully uninstalled nvidia-cublas-cu12-12.5.3.2\n",
            "  Attempting uninstall: nvidia-cusparse-cu12\n",
            "    Found existing installation: nvidia-cusparse-cu12 12.5.1.3\n",
            "    Uninstalling nvidia-cusparse-cu12-12.5.1.3:\n",
            "      Successfully uninstalled nvidia-cusparse-cu12-12.5.1.3\n",
            "  Attempting uninstall: nvidia-cudnn-cu12\n",
            "    Found existing installation: nvidia-cudnn-cu12 9.3.0.75\n",
            "    Uninstalling nvidia-cudnn-cu12-9.3.0.75:\n",
            "      Successfully uninstalled nvidia-cudnn-cu12-9.3.0.75\n",
            "  Attempting uninstall: nvidia-cusolver-cu12\n",
            "    Found existing installation: nvidia-cusolver-cu12 11.6.3.83\n",
            "    Uninstalling nvidia-cusolver-cu12-11.6.3.83:\n",
            "      Successfully uninstalled nvidia-cusolver-cu12-11.6.3.83\n",
            "Successfully installed lightning-utilities-0.12.0 nvidia-cublas-cu12-12.4.5.8 nvidia-cuda-cupti-cu12-12.4.127 nvidia-cuda-nvrtc-cu12-12.4.127 nvidia-cuda-runtime-cu12-12.4.127 nvidia-cudnn-cu12-9.1.0.70 nvidia-cufft-cu12-11.2.1.3 nvidia-curand-cu12-10.3.5.147 nvidia-cusolver-cu12-11.6.1.9 nvidia-cusparse-cu12-12.3.1.170 nvidia-nvjitlink-cu12-12.4.127 torchmetrics-1.6.1\n"
          ]
        }
      ],
      "execution_count": 1
    },
    {
      "cell_type": "code",
      "source": [
        "# Import required libraries\n",
        "import pandas as pd\n",
        "import matplotlib.pyplot as plt\n",
        "import seaborn as sns\n",
        "from sklearn.preprocessing import StandardScaler\n",
        "import torch\n",
        "import torch.nn as nn\n",
        "from torch.utils.data import DataLoader, TensorDataset\n",
        "import torch.optim as optim\n",
        "from torchmetrics import Accuracy, Precision, Recall, F1Score, AUROC\n",
        "from sklearn.metrics import confusion_matrix\n",
        "\n"
      ],
      "metadata": {
        "trusted": true,
        "execution": {
          "iopub.status.busy": "2025-02-18T21:39:23.824538Z",
          "iopub.execute_input": "2025-02-18T21:39:23.824819Z",
          "iopub.status.idle": "2025-02-18T21:39:23.829794Z",
          "shell.execute_reply.started": "2025-02-18T21:39:23.824798Z",
          "shell.execute_reply": "2025-02-18T21:39:23.828916Z"
        },
        "id": "jtMEUIdd_vZk"
      },
      "outputs": [],
      "execution_count": 2
    },
    {
      "cell_type": "code",
      "source": [
        "# Load the preprocessed data from Kaggle input directory\n",
        "train_df = pd.read_csv('/content/labelled_train.csv')\n",
        "test_df = pd.read_csv('/content/labelled_test.csv')\n",
        "val_df = pd.read_csv('/content/labelled_validation.csv')\n"
      ],
      "metadata": {
        "trusted": true,
        "execution": {
          "iopub.status.busy": "2025-02-18T21:39:23.831422Z",
          "iopub.execute_input": "2025-02-18T21:39:23.831623Z",
          "iopub.status.idle": "2025-02-18T21:39:24.26236Z",
          "shell.execute_reply.started": "2025-02-18T21:39:23.831606Z",
          "shell.execute_reply": "2025-02-18T21:39:24.261589Z"
        },
        "id": "fEGxOsAR_vZl"
      },
      "outputs": [],
      "execution_count": 3
    },
    {
      "cell_type": "code",
      "source": [
        "\n",
        "# Displaying the first few rows of the dataset to understand the structure\n",
        "print(\"Training Data Preview:\")\n",
        "print(train_df.head())\n",
        "\n",
        "# Data Summary Statistics\n",
        "print(\"\\nTraining Data Summary Statistics:\")\n",
        "print(train_df.describe())\n",
        "\n",
        "# Checking the distribution of the target variable ('sus_label') to see if there is class imbalance\n",
        "sns.countplot(x='sus_label', data=train_df)\n",
        "plt.title(\"Class Distribution in Training Set\")\n",
        "plt.show()"
      ],
      "metadata": {
        "trusted": true,
        "execution": {
          "iopub.status.busy": "2025-02-18T21:39:24.263746Z",
          "iopub.execute_input": "2025-02-18T21:39:24.263966Z",
          "iopub.status.idle": "2025-02-18T21:39:24.55791Z",
          "shell.execute_reply.started": "2025-02-18T21:39:24.263948Z",
          "shell.execute_reply": "2025-02-18T21:39:24.557062Z"
        },
        "colab": {
          "base_uri": "https://localhost:8080/",
          "height": 1000
        },
        "id": "2GZmZSo3_vZm",
        "outputId": "54798418-61e8-44f4-c72a-204b532ccdf3"
      },
      "outputs": [
        {
          "output_type": "stream",
          "name": "stdout",
          "text": [
            "Training Data Preview:\n",
            "   processId  threadId  parentProcessId  userId  mountNamespace  argsNum  \\\n",
            "0        381      7337                1     100      4026532231        5   \n",
            "1        381      7337                1     100      4026532231        1   \n",
            "2        381      7337                1     100      4026532231        0   \n",
            "3       7347      7347             7341       0      4026531840        2   \n",
            "4       7347      7347             7341       0      4026531840        4   \n",
            "\n",
            "   returnValue  sus_label  \n",
            "0            0          1  \n",
            "1            0          1  \n",
            "2            0          1  \n",
            "3           -2          1  \n",
            "4            0          1  \n",
            "\n",
            "Training Data Summary Statistics:\n",
            "           processId       threadId  parentProcessId         userId  \\\n",
            "count  763144.000000  763144.000000    763144.000000  763144.000000   \n",
            "mean     6814.763308    6820.265241      1882.216609       2.279034   \n",
            "std      1948.871187    1937.068333      2215.563094      37.416576   \n",
            "min         1.000000       1.000000         0.000000       0.000000   \n",
            "25%      7313.000000    7313.000000       187.000000       0.000000   \n",
            "50%      7365.000000    7365.000000      1385.000000       0.000000   \n",
            "75%      7415.000000    7415.000000      1648.000000       0.000000   \n",
            "max      8619.000000    8619.000000      7672.000000    1000.000000   \n",
            "\n",
            "       mountNamespace        argsNum    returnValue      sus_label  \n",
            "count    7.631440e+05  763144.000000  763144.000000  763144.000000  \n",
            "mean     4.026532e+09       2.672082      17.520924       0.001663  \n",
            "std      1.649030e+02       1.340906     318.596662       0.040744  \n",
            "min      4.026532e+09       0.000000    -115.000000       0.000000  \n",
            "25%      4.026532e+09       1.000000       0.000000       0.000000  \n",
            "50%      4.026532e+09       3.000000       0.000000       0.000000  \n",
            "75%      4.026532e+09       4.000000       4.000000       0.000000  \n",
            "max      4.026532e+09       5.000000    8289.000000       1.000000  \n"
          ]
        },
        {
          "output_type": "display_data",
          "data": {
            "text/plain": [
              "<Figure size 640x480 with 1 Axes>"
            ],
            "image/png": "[encoded data removed]"
          },
          "metadata": {}
        }
      ],
      "execution_count": 4
    },
    {
      "cell_type": "code",
      "source": [
        "# --- Data Preprocessing ---\n",
        "print (train_df.shape)\n",
        "print (test_df.shape)\n",
        "print (val_df.shape)\n",
        "train_df = train_df.dropna(subset=['sus_label'])\n",
        "test_df = test_df.dropna(subset=['sus_label'])\n",
        "val_df = val_df.dropna(subset=['sus_label'])\n",
        "print (train_df.shape)\n",
        "print (test_df.shape)\n",
        "print (val_df.shape)\n",
        "X_train = train_df.iloc[:, :-1]\n",
        "y_train = train_df.iloc[:, -1]\n",
        "X_test = test_df.iloc[:, :-1]\n",
        "y_test = test_df.iloc[:, -1]\n",
        "X_val = val_df.iloc[:, :-1]\n",
        "y_val = val_df.iloc[:, -1]\n",
        "\n",
        "# Standardize the data to have zero mean and unit variance\n",
        "scaler = StandardScaler()\n",
        "X_train_scaled = scaler.fit_transform(X_train)\n",
        "X_test_scaled = scaler.transform(X_test)\n",
        "X_val_scaled = scaler.transform(X_val)\n",
        "\n",
        "# --- Convert data to PyTorch tensors ---\n",
        "X_train_tensor = torch.tensor(X_train_scaled, dtype=torch.float32)\n",
        "y_train_tensor = torch.tensor(y_train.values, dtype=torch.float32).view(-1, 1)\n",
        "X_test_tensor = torch.tensor(X_test_scaled, dtype=torch.float32)\n",
        "y_test_tensor = torch.tensor(y_test.values, dtype=torch.float32).view(-1, 1)\n",
        "X_val_tensor = torch.tensor(X_val_scaled, dtype=torch.float32)\n",
        "y_val_tensor = torch.tensor(y_val.values, dtype=torch.float32).view(-1, 1)\n",
        "\n",
        "# --- Create DataLoader for batching ---\n",
        "train_dataset = TensorDataset(X_train_tensor, y_train_tensor)\n",
        "train_loader = DataLoader(train_dataset, batch_size=64, shuffle=True)\n",
        "val_dataset = TensorDataset(X_val_tensor, y_val_tensor)\n",
        "val_loader = DataLoader(val_dataset, batch_size=64, shuffle=False)\n",
        "test_dataset = TensorDataset(X_test_tensor, y_test_tensor)\n",
        "test_loader = DataLoader(test_dataset, batch_size=64, shuffle=False)\n"
      ],
      "metadata": {
        "trusted": true,
        "execution": {
          "iopub.status.busy": "2025-02-18T21:39:24.55878Z",
          "iopub.execute_input": "2025-02-18T21:39:24.559054Z",
          "iopub.status.idle": "2025-02-18T21:39:24.665926Z",
          "shell.execute_reply.started": "2025-02-18T21:39:24.559005Z",
          "shell.execute_reply": "2025-02-18T21:39:24.664967Z"
        },
        "colab": {
          "base_uri": "https://localhost:8080/"
        },
        "id": "c9jhUya0_vZm",
        "outputId": "7be04b11-51da-4d14-86c7-bcda81a2228e"
      },
      "outputs": [
        {
          "output_type": "stream",
          "name": "stdout",
          "text": [
            "(763144, 8)\n",
            "(188967, 8)\n",
            "(188967, 8)\n",
            "(763144, 8)\n",
            "(188967, 8)\n",
            "(188967, 8)\n"
          ]
        }
      ],
      "execution_count": 5
    },
    {
      "cell_type": "code",
      "source": [
        "class Net(nn.Module):\n",
        "    def __init__(self, input_size):\n",
        "        super().__init__()\n",
        "        self.model = nn.Sequential(\n",
        "            nn.Linear(input_size, 128),\n",
        "            nn.ReLU(),\n",
        "            nn.Dropout(0.5),\n",
        "            nn.Linear(128, 64),\n",
        "            nn.ReLU(),\n",
        "            nn.Dropout(0.5),\n",
        "            nn.Linear(64, 1),\n",
        "        )\n",
        "\n",
        "    def forward(self, x):\n",
        "        return self.model(x)\n",
        "\n"
      ],
      "metadata": {
        "trusted": true,
        "execution": {
          "iopub.status.busy": "2025-02-18T21:39:24.666917Z",
          "iopub.execute_input": "2025-02-18T21:39:24.667226Z",
          "iopub.status.idle": "2025-02-18T21:39:24.671978Z",
          "shell.execute_reply.started": "2025-02-18T21:39:24.667202Z",
          "shell.execute_reply": "2025-02-18T21:39:24.671204Z"
        },
        "id": "oFizLqWE_vZn"
      },
      "outputs": [],
      "execution_count": 6
    },
    {
      "cell_type": "code",
      "source": [
        "# Define Focal Loss\n",
        "class FocalLoss(nn.Module):\n",
        "    def __init__(self, alpha=0.5, gamma=3.0):\n",
        "        super().__init__()\n",
        "        self.alpha = alpha\n",
        "        self.gamma = gamma\n",
        "\n",
        "    def forward(self, inputs, targets):\n",
        "        # Compute binary cross-entropy loss\n",
        "        BCE_loss = nn.functional.binary_cross_entropy_with_logits(inputs, targets, reduction='none')\n",
        "\n",
        "        # Compute pt (probability of the true class)\n",
        "        pt = torch.exp(-BCE_loss)\n",
        "\n",
        "        # Compute Focal Loss\n",
        "        focal_loss = self.alpha * (1 - pt) ** self.gamma * BCE_loss\n",
        "        return focal_loss.mean()\n",
        "\n",
        "# Initialize model, loss function, and optimizer\n",
        "input_size = X_train.shape[1]\n",
        "model = Net(input_size)\n",
        "criterion = FocalLoss(alpha=0.25, gamma=2.0)  # Use Focal Loss\n",
        "optimizer = optim.AdamW(model.parameters(), lr=0.01, weight_decay=1e-5)\n",
        "\n",
        "# Initialize metrics\n",
        "train_acc = Accuracy(task=\"binary\")\n",
        "val_acc = Accuracy(task=\"binary\")\n",
        "test_acc = Accuracy(task=\"binary\")\n",
        "\n",
        "train_precision = Precision(task=\"binary\")\n",
        "val_precision = Precision(task=\"binary\")\n",
        "test_precision = Precision(task=\"binary\")\n",
        "\n",
        "train_recall = Recall(task=\"binary\")\n",
        "val_recall = Recall(task=\"binary\")\n",
        "test_recall = Recall(task=\"binary\")\n",
        "\n",
        "train_f1 = F1Score(task=\"binary\")\n",
        "val_f1 = F1Score(task=\"binary\")\n",
        "test_f1 = F1Score(task=\"binary\")\n",
        "\n",
        "train_auroc = AUROC(task=\"binary\")\n",
        "val_auroc = AUROC(task=\"binary\")\n",
        "test_auroc = AUROC(task=\"binary\")\n"
      ],
      "metadata": {
        "trusted": true,
        "execution": {
          "iopub.status.busy": "2025-02-18T21:39:24.672732Z",
          "iopub.execute_input": "2025-02-18T21:39:24.672939Z",
          "iopub.status.idle": "2025-02-18T21:39:24.700067Z",
          "shell.execute_reply.started": "2025-02-18T21:39:24.672921Z",
          "shell.execute_reply": "2025-02-18T21:39:24.699282Z"
        },
        "id": "I_OtzBtN_vZo"
      },
      "outputs": [],
      "execution_count": 7
    },
    {
      "cell_type": "code",
      "source": [
        "# Training loop\n",
        "num_epochs = 10\n",
        "for epoch in range(num_epochs):\n",
        "    model.train()\n",
        "    train_loss = 0.0\n",
        "    train_acc.reset()\n",
        "    train_precision.reset()\n",
        "    train_recall.reset()\n",
        "    train_f1.reset()\n",
        "    train_auroc.reset()\n",
        "\n",
        "    for batch_X, batch_y in train_loader:\n",
        "        optimizer.zero_grad()\n",
        "        outputs = model(batch_X)\n",
        "        loss = criterion(outputs, batch_y)\n",
        "        loss.backward()\n",
        "        optimizer.step()\n",
        "        train_loss += loss.item()\n",
        "\n",
        "        # Compute training metrics\n",
        "        preds = (torch.sigmoid(outputs) >= 0.5).float()\n",
        "        train_acc.update(preds, batch_y)\n",
        "        train_precision.update(preds, batch_y)\n",
        "        train_recall.update(preds, batch_y)\n",
        "        train_f1.update(preds, batch_y)\n",
        "        train_auroc.update(torch.sigmoid(outputs), batch_y)\n",
        "\n",
        "    # Validation loop\n",
        "    model.eval()\n",
        "    val_loss = 0.0\n",
        "    val_acc.reset()\n",
        "    val_precision.reset()\n",
        "    val_recall.reset()\n",
        "    val_f1.reset()\n",
        "    val_auroc.reset()\n",
        "\n",
        "    with torch.no_grad():\n",
        "        for batch_X, batch_y in val_loader:\n",
        "            outputs = model(batch_X)\n",
        "            loss = criterion(outputs, batch_y)\n",
        "            val_loss += loss.item()\n",
        "\n",
        "            # Compute validation metrics\n",
        "            preds = (torch.sigmoid(outputs) >= 0.5).float()\n",
        "            val_acc.update(preds, batch_y)\n",
        "            val_precision.update(preds, batch_y)\n",
        "            val_recall.update(preds, batch_y)\n",
        "            val_f1.update(preds, batch_y)\n",
        "            val_auroc.update(torch.sigmoid(outputs), batch_y)\n",
        "\n",
        "    # Compute metrics\n",
        "    train_accuracy = train_acc.compute()\n",
        "    val_accuracy = val_acc.compute()\n",
        "    train_precision_val = train_precision.compute()\n",
        "    val_precision_val = val_precision.compute()\n",
        "    train_recall_val = train_recall.compute()\n",
        "    val_recall_val = val_recall.compute()\n",
        "    train_f1_val = train_f1.compute()\n",
        "    val_f1_val = val_f1.compute()\n",
        "    train_auroc_val = train_auroc.compute()\n",
        "    val_auroc_val = val_auroc.compute()\n",
        "\n",
        "    # Print epoch results\n",
        "    print(f\"Epoch {epoch + 1}/{num_epochs}: \"\n",
        "          f\"Train Loss: {train_loss / len(train_loader):.4f}, \"\n",
        "          f\"Train Accuracy: {train_accuracy:.4f}, \"\n",
        "          f\"Train Precision: {train_precision_val:.4f}, \"\n",
        "          f\"Train Recall: {train_recall_val:.4f}, \"\n",
        "          f\"Train F1: {train_f1_val:.4f}, \"\n",
        "          f\"Train AUROC: {train_auroc_val:.4f}, \"\n",
        "          f\"Val Loss: {val_loss / len(val_loader):.4f}, \"\n",
        "          f\"Val Accuracy: {val_accuracy:.4f}, \"\n",
        "          f\"Val Precision: {val_precision_val:.4f}, \"\n",
        "          f\"Val Recall: {val_recall_val:.4f}, \"\n",
        "          f\"Val F1: {val_f1_val:.4f}, \"\n",
        "          f\"Val AUROC: {val_auroc_val:.4f}\")\n"
      ],
      "metadata": {
        "trusted": true,
        "execution": {
          "iopub.status.busy": "2025-02-18T21:39:24.701439Z",
          "iopub.execute_input": "2025-02-18T21:39:24.701632Z",
          "iopub.status.idle": "2025-02-18T21:47:56.315842Z",
          "shell.execute_reply.started": "2025-02-18T21:39:24.701615Z",
          "shell.execute_reply": "2025-02-18T21:47:56.314993Z"
        },
        "colab": {
          "base_uri": "https://localhost:8080/"
        },
        "id": "VfIwFfKi_vZp",
        "outputId": "6ba8f692-c47e-4960-ec18-b20a3a26865a"
      },
      "outputs": [
        {
          "output_type": "stream",
          "name": "stdout",
          "text": [
            "Epoch 1/10: Train Loss: 0.0008, Train Accuracy: 0.9994, Train Precision: 0.8813, Train Recall: 0.7258, Train F1: 0.7960, Train AUROC: 0.9543, Val Loss: 0.0007, Val Accuracy: 1.0000, Val Precision: 1.0000, Val Recall: 0.9885, Val F1: 0.9942, Val AUROC: 0.9890\n",
            "Epoch 2/10: Train Loss: 0.0010, Train Accuracy: 0.9995, Train Precision: 0.8923, Train Recall: 0.7636, Train F1: 0.8229, Train AUROC: 0.9657, Val Loss: 0.0009, Val Accuracy: 1.0000, Val Precision: 1.0000, Val Recall: 0.9885, Val F1: 0.9942, Val AUROC: 0.9922\n",
            "Epoch 3/10: Train Loss: 0.0014, Train Accuracy: 0.9995, Train Precision: 0.8987, Train Recall: 0.7620, Train F1: 0.8247, Train AUROC: 0.9568, Val Loss: 0.0002, Val Accuracy: 1.0000, Val Precision: 1.0000, Val Recall: 0.9885, Val F1: 0.9942, Val AUROC: 0.9958\n",
            "Epoch 4/10: Train Loss: 0.0015, Train Accuracy: 0.9995, Train Precision: 0.8937, Train Recall: 0.7620, Train F1: 0.8226, Train AUROC: 0.9597, Val Loss: 0.0003, Val Accuracy: 1.0000, Val Precision: 1.0000, Val Recall: 0.9885, Val F1: 0.9942, Val AUROC: 0.9983\n",
            "Epoch 5/10: Train Loss: 0.0008, Train Accuracy: 0.9995, Train Precision: 0.9210, Train Recall: 0.7628, Train F1: 0.8345, Train AUROC: 0.9691, Val Loss: 0.0003, Val Accuracy: 1.0000, Val Precision: 1.0000, Val Recall: 0.9885, Val F1: 0.9942, Val AUROC: 0.9999\n",
            "Epoch 6/10: Train Loss: 0.0019, Train Accuracy: 0.9995, Train Precision: 0.9322, Train Recall: 0.7589, Train F1: 0.8367, Train AUROC: 0.9662, Val Loss: 0.0009, Val Accuracy: 1.0000, Val Precision: 1.0000, Val Recall: 0.9885, Val F1: 0.9942, Val AUROC: 0.9976\n",
            "Epoch 7/10: Train Loss: 0.0020, Train Accuracy: 0.9995, Train Precision: 0.9151, Train Recall: 0.7478, Train F1: 0.8231, Train AUROC: 0.9654, Val Loss: 0.0006, Val Accuracy: 1.0000, Val Precision: 1.0000, Val Recall: 0.9885, Val F1: 0.9942, Val AUROC: 0.9991\n",
            "Epoch 8/10: Train Loss: 0.0018, Train Accuracy: 0.9995, Train Precision: 0.9291, Train Recall: 0.7431, Train F1: 0.8257, Train AUROC: 0.9691, Val Loss: 0.0002, Val Accuracy: 1.0000, Val Precision: 1.0000, Val Recall: 0.9885, Val F1: 0.9942, Val AUROC: 0.9999\n",
            "Epoch 9/10: Train Loss: 0.0020, Train Accuracy: 0.9994, Train Precision: 0.9239, Train Recall: 0.7273, Train F1: 0.8139, Train AUROC: 0.9659, Val Loss: 0.0006, Val Accuracy: 1.0000, Val Precision: 1.0000, Val Recall: 0.9885, Val F1: 0.9942, Val AUROC: 0.9999\n",
            "Epoch 10/10: Train Loss: 0.0015, Train Accuracy: 0.9995, Train Precision: 0.9446, Train Recall: 0.7526, Train F1: 0.8377, Train AUROC: 0.9711, Val Loss: 0.0014, Val Accuracy: 1.0000, Val Precision: 1.0000, Val Recall: 0.9885, Val F1: 0.9942, Val AUROC: 0.9942\n"
          ]
        }
      ],
      "execution_count": 8
    },
    {
      "cell_type": "code",
      "source": [
        "# --- Testing the Model ---\n",
        "model.eval()  # Set the model to evaluation mode for testing\n",
        "test_loss = 0.0\n",
        "test_acc.reset()\n",
        "test_precision.reset()\n",
        "test_recall.reset()\n",
        "test_f1.reset()\n",
        "test_auroc.reset()\n",
        "# Store all predictions and labels for confusion matrix\n",
        "all_preds = []\n",
        "all_labels = []\n",
        "with torch.no_grad():\n",
        "    for batch_X, batch_y in test_loader:\n",
        "        outputs = model(batch_X)\n",
        "        loss = criterion(outputs, batch_y)\n",
        "        test_loss += loss.item()\n",
        "\n",
        "        # Compute test metrics\n",
        "        preds = (torch.sigmoid(outputs) >= 0.5).float()\n",
        "        test_acc.update(preds, batch_y)\n",
        "        test_precision.update(preds, batch_y)\n",
        "        test_recall.update(preds, batch_y)\n",
        "        test_f1.update(preds, batch_y)\n",
        "        test_auroc.update(torch.sigmoid(outputs), batch_y)\n",
        "        # Store predictions and labels\n",
        "        all_preds.extend(preds.cpu().numpy())\n",
        "        all_labels.extend(batch_y.cpu().numpy())\n",
        "# Compute test metrics\n",
        "test_accuracy = test_acc.compute()\n",
        "test_precision_val = test_precision.compute()\n",
        "test_recall_val = test_recall.compute()\n",
        "test_f1_val = test_f1.compute()\n",
        "test_auroc_val = test_auroc.compute()\n",
        "# Print test results\n",
        "print(f\"Test Loss: {test_loss / len(test_loader):.4f}, \"\n",
        "      f\"Test Accuracy: {test_accuracy:.4f}, \"\n",
        "      f\"Test Precision: {test_precision_val:.4f}, \"\n",
        "      f\"Test Recall: {test_recall_val:.4f}, \"\n",
        "      f\"Test F1: {test_f1_val:.4f}, \"\n",
        "      f\"Test AUROC: {test_auroc_val:.4f}\")\n",
        "# --- Confusion Matrix ---\n",
        "cm = confusion_matrix(all_labels, all_preds)\n",
        "# --- Plot Confusion Matrix ---\n",
        "plt.figure(figsize=(8, 6))\n",
        "sns.heatmap(cm, annot=True, fmt='d', cmap='Blues')\n",
        "plt.xlabel('Predicted')\n",
        "plt.ylabel('True')\n",
        "plt.title('Confusion Matrix')\n",
        "plt.show()"
      ],
      "metadata": {
        "trusted": true,
        "execution": {
          "iopub.status.busy": "2025-02-18T21:47:56.316742Z",
          "iopub.execute_input": "2025-02-18T21:47:56.316985Z",
          "iopub.status.idle": "2025-02-18T21:48:03.839792Z",
          "shell.execute_reply.started": "2025-02-18T21:47:56.316965Z",
          "shell.execute_reply": "2025-02-18T21:48:03.838957Z"
        },
        "colab": {
          "base_uri": "https://localhost:8080/",
          "height": 594
        },
        "id": "FaeL-OnL_vZq",
        "outputId": "3d6e3a68-4fba-40d5-d424-910c47153f74"
      },
      "outputs": [
        {
          "output_type": "stream",
          "name": "stdout",
          "text": [
            "Test Loss: 0.0616, Test Accuracy: 0.9448, Test Precision: 1.0000, Test Recall: 0.9391, Test F1: 0.9686, Test AUROC: 0.9894\n"
          ]
        },
        {
          "output_type": "display_data",
          "data": {
            "text/plain": [
              "<Figure size 800x600 with 2 Axes>"
            ],
            "image/png": "[encoded data removed]"
          },
          "metadata": {}
        }
      ],
      "execution_count": 9
    }
  ]
}